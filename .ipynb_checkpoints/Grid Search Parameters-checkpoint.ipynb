{
 "cells": [
  {
   "cell_type": "markdown",
   "id": "545235ca",
   "metadata": {},
   "source": [
    "## Logistic Regression"
   ]
  },
  {
   "cell_type": "code",
   "execution_count": 3,
   "id": "2857a1ab",
   "metadata": {},
   "outputs": [],
   "source": [
    "lr = {\n",
    "    \"penalty\":[\"l1\",\"l2\"],\n",
    "    \"C\":[\".001\",\".01\",\".1\",\".3\",\".6\",\".9\"],\n",
    "    \"class_weight\":[\"balanced\",None],\n",
    "    \"solver\":[\"liblinear\",\"saga\"],\n",
    "    \"max_iter\":[1000],\n",
    "    \"n_jobs\":[-1],\n",
    "     }"
   ]
  },
  {
   "cell_type": "markdown",
   "id": "7f434fd8",
   "metadata": {},
   "source": [
    "## Decision Tree"
   ]
  },
  {
   "cell_type": "code",
   "execution_count": null,
   "id": "783a8d1d",
   "metadata": {},
   "outputs": [],
   "source": [
    "dtc = {\n",
    "    \"criterion\":[\"gini\",\"entropy\",\"log_loss\"],\n",
    "    \"splitter\":[\"best\",\"random\"],\n",
    "    \"max_depth\":[12,10,8,7,6,5,4,3],\n",
    "    \"min_samples_split\":[2,5,8,10,20,40],\n",
    "    \"min_samples_leaf\":[3,5,7,10,12,15],\n",
    "    \"max_leaf_nodes\":[None],\n",
    "     }"
   ]
  },
  {
   "cell_type": "markdown",
   "id": "7236e409",
   "metadata": {},
   "source": [
    "## Random Forest"
   ]
  },
  {
   "cell_type": "code",
   "execution_count": null,
   "id": "4c414bbb",
   "metadata": {},
   "outputs": [],
   "source": [
    "rfc = {\n",
    "    \"n_estimators\":[100,300,500],\n",
    "    \"criterion\":[\"gini\",\"entropy\",\"log_loss\"],\n",
    "    \"max_depth\":[12,10,8,7,6,5,4,3],\n",
    "    \"min_samples_split\":[2,5,8,10,20,40],\n",
    "    \"min_samples_leaf\":[3,5,7,10,12,15],\n",
    "    \"max_leaf_nodes\":[None],\n",
    "    \"bootstrap\":[True,False]\n",
    "     }"
   ]
  },
  {
   "cell_type": "markdown",
   "id": "97fdb82e",
   "metadata": {},
   "source": [
    "## XGBoost"
   ]
  },
  {
   "cell_type": "code",
   "execution_count": null,
   "id": "5acaa991",
   "metadata": {},
   "outputs": [],
   "source": [
    "xgb = {\n",
    "    \"booster\":[\"gbtree\",\"dart\"],\n",
    "    \"eta\":[.1,.2,.3,.4,.5,.6,.7,.8,.9],\n",
    "    \n",
    "    \"gamma\":[0,1,5,10,50,100],\n",
    "    \"max_depth\":[12,10,8,7,6,5,4,3],\n",
    "    \n",
    "    \"lambda\":[0,.1,.3,.5,.7,.9,1],\n",
    "    \"alpha\":[0,.1,.3,.5,.7,.9,1],\n",
    "    \"tree_method\":['auto',\"approx\",\"hist\"]\n",
    "\n",
    "     }"
   ]
  },
  {
   "cell_type": "markdown",
   "id": "87f4e60d",
   "metadata": {},
   "source": [
    "## Neural Net"
   ]
  },
  {
   "cell_type": "code",
   "execution_count": null,
   "id": "d94912b4",
   "metadata": {},
   "outputs": [],
   "source": [
    "nn = {\n",
    "    \"hidden_layer_sizes\":[150,100,50],\n",
    "    \"activation\":[\"identity\", \"logistic\", \"tanh\", \"relu\"],\n",
    "    \"solver\":[\"lbfgs\",\"sgd\",\"adam\"],\n",
    "    \n",
    "    \"alpha\":[0.0001,.001,.01,.1,.3,.5,.7],\n",
    "    \n",
    "    \"learning_rate\":[\"constant\", \"invscaling\", \"adaptive\"], #Only used when solver='sgd'\n",
    "    \"learning_rate_init\": [.001,.01,.1]#Only used when solver='sgd' or 'adam'\n",
    "    \n",
    "    \"max_iter\":[200,500],\n",
    "    \"shuffle\":[True,False],  #Only used when solver=’sgd’ or ‘adam’.\n",
    "\n",
    "\n",
    "     }"
   ]
  }
 ],
 "metadata": {
  "kernelspec": {
   "display_name": "Python 3 (ipykernel)",
   "language": "python",
   "name": "python3"
  },
  "language_info": {
   "codemirror_mode": {
    "name": "ipython",
    "version": 3
   },
   "file_extension": ".py",
   "mimetype": "text/x-python",
   "name": "python",
   "nbconvert_exporter": "python",
   "pygments_lexer": "ipython3",
   "version": "3.9.7"
  }
 },
 "nbformat": 4,
 "nbformat_minor": 5
}
