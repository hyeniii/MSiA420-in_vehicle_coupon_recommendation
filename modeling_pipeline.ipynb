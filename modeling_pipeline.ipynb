{
 "cells": [
  {
   "cell_type": "code",
   "execution_count": 33,
   "metadata": {},
   "outputs": [],
   "source": [
    "# basic\n",
    "import pandas as pd\n",
    "import numpy as np\n",
    "import matplotlib.pyplot as plt\n",
    "\n",
    "# model\n",
    "import sklearn\n",
    "from sklearn.model_selection import train_test_split, cross_val_score, GridSearchCV\n",
    "from sklearn.metrics import roc_auc_score, recall_score, precision_score, roc_curve\n",
    "from sklearn.linear_model import LogisticRegression\n",
    "from sklearn.tree import DecisionTreeClassifier\n",
    "from sklearn.ensemble import RandomForestClassifier\n",
    "from sklearn.neural_network import MLPClassifier\n",
    "from xgboost import XGBClassifier\n",
    "import shap\n",
    "\n",
    "import model_pipeline"
   ]
  },
  {
   "cell_type": "code",
   "execution_count": 34,
   "metadata": {},
   "outputs": [],
   "source": [
    "ohe_mode_allcat  = pd.read_csv(\"data/ohe_mode_allcat.csv\")"
   ]
  },
  {
   "cell_type": "code",
   "execution_count": 35,
   "metadata": {},
   "outputs": [],
   "source": [
    "ohe_mode_allcat.drop(columns=['Unnamed: 0'], inplace=True)"
   ]
  },
  {
   "cell_type": "code",
   "execution_count": 38,
   "metadata": {},
   "outputs": [
    {
     "name": "stdout",
     "output_type": "stream",
     "text": [
      "destination_Home\n",
      "destination_No Urgent Place\n",
      "destination_Work\n",
      "passanger_Alone\n",
      "passanger_Friend(s)\n",
      "passanger_Kid(s)\n",
      "passanger_Partner\n",
      "weather_Rainy\n",
      "weather_Snowy\n",
      "weather_Sunny\n",
      "temperature_30\n",
      "temperature_55\n",
      "temperature_80\n",
      "time_10AM\n",
      "time_10PM\n",
      "time_2PM\n",
      "time_6PM\n",
      "time_7AM\n",
      "coupon_Bar\n",
      "coupon_Carry out & Take away\n",
      "coupon_Coffee House\n",
      "coupon_Restaurant(20-50)\n",
      "coupon_Restaurant(<20)\n",
      "expiration_1d\n",
      "expiration_2h\n",
      "gender_Female\n",
      "gender_Male\n",
      "age_21\n",
      "age_26\n",
      "age_31\n",
      "age_36\n",
      "age_41\n",
      "age_46\n",
      "age_50plus\n",
      "age_below21\n",
      "maritalStatus_Divorced\n",
      "maritalStatus_Married partner\n",
      "maritalStatus_Single\n",
      "maritalStatus_Unmarried partner\n",
      "maritalStatus_Widowed\n",
      "has_children_0\n",
      "has_children_1\n",
      "education_Associates degree\n",
      "education_Bachelors degree\n",
      "education_Graduate degree (Masters or Doctorate)\n",
      "education_High School Graduate\n",
      "education_Some High School\n",
      "education_Some college - no degree\n",
      "occupation_Architecture & Engineering\n",
      "occupation_Arts Design Entertainment Sports & Media\n",
      "occupation_Building & Grounds Cleaning & Maintenance\n",
      "occupation_Business & Financial\n",
      "occupation_Community & Social Services\n",
      "occupation_Computer & Mathematical\n",
      "occupation_Construction & Extraction\n",
      "occupation_Education&Training&Library\n",
      "occupation_Farming Fishing & Forestry\n",
      "occupation_Food Preparation & Serving Related\n",
      "occupation_Healthcare Practitioners & Technical\n",
      "occupation_Healthcare Support\n",
      "occupation_Installation Maintenance & Repair\n",
      "occupation_Legal\n",
      "occupation_Life Physical Social Science\n",
      "occupation_Management\n",
      "occupation_Office & Administrative Support\n",
      "occupation_Personal Care & Service\n",
      "occupation_Production Occupations\n",
      "occupation_Protective Service\n",
      "occupation_Retired\n",
      "occupation_Sales & Related\n",
      "occupation_Student\n",
      "occupation_Transportation & Material Moving\n",
      "occupation_Unemployed\n",
      "income_$100000 or More\n",
      "income_$12500 - $24999\n",
      "income_$25000 - $37499\n",
      "income_$37500 - $49999\n",
      "income_$50000 - $62499\n",
      "income_$62500 - $74999\n",
      "income_$75000 - $87499\n",
      "income_$87500 - $99999\n",
      "income_Less than $12500\n",
      "car_Car that is too old to install Onstar :D\n",
      "car_Mazda5\n",
      "car_Scooter and motorcycle\n",
      "car_crossover\n",
      "car_do not drive\n",
      "car_nan\n",
      "Bar_1~3\n",
      "Bar_4~8\n",
      "Bar_gt8\n",
      "Bar_less1\n",
      "Bar_nan\n",
      "Bar_never\n",
      "CoffeeHouse_1~3\n",
      "CoffeeHouse_4~8\n",
      "CoffeeHouse_gt8\n",
      "CoffeeHouse_less1\n",
      "CoffeeHouse_nan\n",
      "CoffeeHouse_never\n",
      "CarryAway_1~3\n",
      "CarryAway_4~8\n",
      "CarryAway_gt8\n",
      "CarryAway_less1\n",
      "CarryAway_nan\n",
      "CarryAway_never\n",
      "RestaurantLessThan20_1~3\n",
      "RestaurantLessThan20_4~8\n",
      "RestaurantLessThan20_gt8\n",
      "RestaurantLessThan20_less1\n",
      "RestaurantLessThan20_nan\n",
      "RestaurantLessThan20_never\n",
      "Restaurant20To50_1~3\n",
      "Restaurant20To50_4~8\n",
      "Restaurant20To50_gt8\n",
      "Restaurant20To50_less1\n",
      "Restaurant20To50_nan\n",
      "Restaurant20To50_never\n",
      "toCoupon_GEQ5min_1\n",
      "toCoupon_GEQ15min_0\n",
      "toCoupon_GEQ15min_1\n",
      "toCoupon_GEQ25min_0\n",
      "toCoupon_GEQ25min_1\n",
      "direction_same_0\n",
      "direction_same_1\n",
      "direction_opp_0\n",
      "direction_opp_1\n",
      "Y\n"
     ]
    }
   ],
   "source": [
    "for i in ohe_mode_allcat.columns:\n",
    "    print(i)"
   ]
  },
  {
   "cell_type": "code",
   "execution_count": 37,
   "metadata": {},
   "outputs": [
    {
     "data": {
      "text/html": [
       "<div>\n",
       "<style scoped>\n",
       "    .dataframe tbody tr th:only-of-type {\n",
       "        vertical-align: middle;\n",
       "    }\n",
       "\n",
       "    .dataframe tbody tr th {\n",
       "        vertical-align: top;\n",
       "    }\n",
       "\n",
       "    .dataframe thead th {\n",
       "        text-align: right;\n",
       "    }\n",
       "</style>\n",
       "<table border=\"1\" class=\"dataframe\">\n",
       "  <thead>\n",
       "    <tr style=\"text-align: right;\">\n",
       "      <th></th>\n",
       "      <th>destination_Home</th>\n",
       "      <th>destination_No Urgent Place</th>\n",
       "      <th>destination_Work</th>\n",
       "      <th>passanger_Alone</th>\n",
       "      <th>passanger_Friend(s)</th>\n",
       "      <th>passanger_Kid(s)</th>\n",
       "      <th>passanger_Partner</th>\n",
       "      <th>weather_Rainy</th>\n",
       "      <th>weather_Snowy</th>\n",
       "      <th>weather_Sunny</th>\n",
       "      <th>...</th>\n",
       "      <th>toCoupon_GEQ5min_1</th>\n",
       "      <th>toCoupon_GEQ15min_0</th>\n",
       "      <th>toCoupon_GEQ15min_1</th>\n",
       "      <th>toCoupon_GEQ25min_0</th>\n",
       "      <th>toCoupon_GEQ25min_1</th>\n",
       "      <th>direction_same_0</th>\n",
       "      <th>direction_same_1</th>\n",
       "      <th>direction_opp_0</th>\n",
       "      <th>direction_opp_1</th>\n",
       "      <th>Y</th>\n",
       "    </tr>\n",
       "  </thead>\n",
       "  <tbody>\n",
       "    <tr>\n",
       "      <th>0</th>\n",
       "      <td>0.0</td>\n",
       "      <td>1.0</td>\n",
       "      <td>0.0</td>\n",
       "      <td>1.0</td>\n",
       "      <td>0.0</td>\n",
       "      <td>0.0</td>\n",
       "      <td>0.0</td>\n",
       "      <td>0.0</td>\n",
       "      <td>0.0</td>\n",
       "      <td>1.0</td>\n",
       "      <td>...</td>\n",
       "      <td>1.0</td>\n",
       "      <td>1.0</td>\n",
       "      <td>0.0</td>\n",
       "      <td>1.0</td>\n",
       "      <td>0.0</td>\n",
       "      <td>1.0</td>\n",
       "      <td>0.0</td>\n",
       "      <td>0.0</td>\n",
       "      <td>1.0</td>\n",
       "      <td>1</td>\n",
       "    </tr>\n",
       "    <tr>\n",
       "      <th>1</th>\n",
       "      <td>0.0</td>\n",
       "      <td>1.0</td>\n",
       "      <td>0.0</td>\n",
       "      <td>0.0</td>\n",
       "      <td>1.0</td>\n",
       "      <td>0.0</td>\n",
       "      <td>0.0</td>\n",
       "      <td>0.0</td>\n",
       "      <td>0.0</td>\n",
       "      <td>1.0</td>\n",
       "      <td>...</td>\n",
       "      <td>1.0</td>\n",
       "      <td>1.0</td>\n",
       "      <td>0.0</td>\n",
       "      <td>1.0</td>\n",
       "      <td>0.0</td>\n",
       "      <td>1.0</td>\n",
       "      <td>0.0</td>\n",
       "      <td>0.0</td>\n",
       "      <td>1.0</td>\n",
       "      <td>0</td>\n",
       "    </tr>\n",
       "    <tr>\n",
       "      <th>2</th>\n",
       "      <td>0.0</td>\n",
       "      <td>1.0</td>\n",
       "      <td>0.0</td>\n",
       "      <td>0.0</td>\n",
       "      <td>1.0</td>\n",
       "      <td>0.0</td>\n",
       "      <td>0.0</td>\n",
       "      <td>0.0</td>\n",
       "      <td>0.0</td>\n",
       "      <td>1.0</td>\n",
       "      <td>...</td>\n",
       "      <td>1.0</td>\n",
       "      <td>0.0</td>\n",
       "      <td>1.0</td>\n",
       "      <td>1.0</td>\n",
       "      <td>0.0</td>\n",
       "      <td>1.0</td>\n",
       "      <td>0.0</td>\n",
       "      <td>0.0</td>\n",
       "      <td>1.0</td>\n",
       "      <td>1</td>\n",
       "    </tr>\n",
       "    <tr>\n",
       "      <th>3</th>\n",
       "      <td>0.0</td>\n",
       "      <td>1.0</td>\n",
       "      <td>0.0</td>\n",
       "      <td>0.0</td>\n",
       "      <td>1.0</td>\n",
       "      <td>0.0</td>\n",
       "      <td>0.0</td>\n",
       "      <td>0.0</td>\n",
       "      <td>0.0</td>\n",
       "      <td>1.0</td>\n",
       "      <td>...</td>\n",
       "      <td>1.0</td>\n",
       "      <td>0.0</td>\n",
       "      <td>1.0</td>\n",
       "      <td>1.0</td>\n",
       "      <td>0.0</td>\n",
       "      <td>1.0</td>\n",
       "      <td>0.0</td>\n",
       "      <td>0.0</td>\n",
       "      <td>1.0</td>\n",
       "      <td>0</td>\n",
       "    </tr>\n",
       "    <tr>\n",
       "      <th>4</th>\n",
       "      <td>0.0</td>\n",
       "      <td>1.0</td>\n",
       "      <td>0.0</td>\n",
       "      <td>0.0</td>\n",
       "      <td>1.0</td>\n",
       "      <td>0.0</td>\n",
       "      <td>0.0</td>\n",
       "      <td>0.0</td>\n",
       "      <td>0.0</td>\n",
       "      <td>1.0</td>\n",
       "      <td>...</td>\n",
       "      <td>1.0</td>\n",
       "      <td>0.0</td>\n",
       "      <td>1.0</td>\n",
       "      <td>1.0</td>\n",
       "      <td>0.0</td>\n",
       "      <td>1.0</td>\n",
       "      <td>0.0</td>\n",
       "      <td>0.0</td>\n",
       "      <td>1.0</td>\n",
       "      <td>0</td>\n",
       "    </tr>\n",
       "  </tbody>\n",
       "</table>\n",
       "<p>5 rows × 128 columns</p>\n",
       "</div>"
      ],
      "text/plain": [
       "   destination_Home  destination_No Urgent Place  destination_Work  \\\n",
       "0               0.0                          1.0               0.0   \n",
       "1               0.0                          1.0               0.0   \n",
       "2               0.0                          1.0               0.0   \n",
       "3               0.0                          1.0               0.0   \n",
       "4               0.0                          1.0               0.0   \n",
       "\n",
       "   passanger_Alone  passanger_Friend(s)  passanger_Kid(s)  passanger_Partner  \\\n",
       "0              1.0                  0.0               0.0                0.0   \n",
       "1              0.0                  1.0               0.0                0.0   \n",
       "2              0.0                  1.0               0.0                0.0   \n",
       "3              0.0                  1.0               0.0                0.0   \n",
       "4              0.0                  1.0               0.0                0.0   \n",
       "\n",
       "   weather_Rainy  weather_Snowy  weather_Sunny  ...  toCoupon_GEQ5min_1  \\\n",
       "0            0.0            0.0            1.0  ...                 1.0   \n",
       "1            0.0            0.0            1.0  ...                 1.0   \n",
       "2            0.0            0.0            1.0  ...                 1.0   \n",
       "3            0.0            0.0            1.0  ...                 1.0   \n",
       "4            0.0            0.0            1.0  ...                 1.0   \n",
       "\n",
       "   toCoupon_GEQ15min_0  toCoupon_GEQ15min_1  toCoupon_GEQ25min_0  \\\n",
       "0                  1.0                  0.0                  1.0   \n",
       "1                  1.0                  0.0                  1.0   \n",
       "2                  0.0                  1.0                  1.0   \n",
       "3                  0.0                  1.0                  1.0   \n",
       "4                  0.0                  1.0                  1.0   \n",
       "\n",
       "   toCoupon_GEQ25min_1  direction_same_0  direction_same_1  direction_opp_0  \\\n",
       "0                  0.0               1.0               0.0              0.0   \n",
       "1                  0.0               1.0               0.0              0.0   \n",
       "2                  0.0               1.0               0.0              0.0   \n",
       "3                  0.0               1.0               0.0              0.0   \n",
       "4                  0.0               1.0               0.0              0.0   \n",
       "\n",
       "   direction_opp_1  Y  \n",
       "0              1.0  1  \n",
       "1              1.0  0  \n",
       "2              1.0  1  \n",
       "3              1.0  0  \n",
       "4              1.0  0  \n",
       "\n",
       "[5 rows x 128 columns]"
      ]
     },
     "execution_count": 37,
     "metadata": {},
     "output_type": "execute_result"
    }
   ],
   "source": [
    "ohe_mode_allcat.head()"
   ]
  },
  {
   "cell_type": "code",
   "execution_count": 29,
   "metadata": {},
   "outputs": [],
   "source": [
    "mode_allcat = pd.read_csv(\"data/mode_allcat.csv\")\n",
    "mode_ordinal = pd.read_csv(\"data/mode_ordinal.csv\")\n",
    "nan_allcat = pd.read_csv(\"data/nan_allcat.csv\")"
   ]
  },
  {
   "cell_type": "code",
   "execution_count": 39,
   "metadata": {},
   "outputs": [],
   "source": [
    "# change column name for xgboost\n",
    "mode_allcat = mode_allcat.rename(columns={'coupon_Restaurant(<20)':'coupon_Restaurant(less_than_20)'})\n",
    "mode_ordinal = mode_ordinal.rename(columns={'coupon_Restaurant(<20)':'coupon_Restaurant(less_than_20)'})\n",
    "nan_allcat = nan_allcat.rename(columns={'coupon_Restaurant(<20)':'coupon_Restaurant(less_than_20)'})\n",
    "ohe_mode_allcat  = ohe_mode_allcat.rename(columns={'coupon_Restaurant(<20)':'coupon_Restaurant(less_than_20)'})"
   ]
  },
  {
   "cell_type": "code",
   "execution_count": 21,
   "metadata": {},
   "outputs": [
    {
     "data": {
      "text/plain": [
       "(12684, 89)"
      ]
     },
     "execution_count": 21,
     "metadata": {},
     "output_type": "execute_result"
    }
   ],
   "source": [
    "mode_ordinal.shape"
   ]
  },
  {
   "cell_type": "code",
   "execution_count": 22,
   "metadata": {},
   "outputs": [],
   "source": [
    "datasets = [(\"mode_allcat\",mode_allcat),(\"mode_ordinal\",mode_ordinal),('nan_allcat',nan_allcat)]"
   ]
  },
  {
   "cell_type": "code",
   "execution_count": 40,
   "metadata": {},
   "outputs": [],
   "source": [
    "dt = DecisionTreeClassifier()\n",
    "dt_params = {\"max_depth\":[10], \"min_samples_leaf\":[12], \"min_samples_split\":[80], \"random_state\":[7], \"splitter\":['random']}\n",
    "\n",
    "rf = RandomForestClassifier()\n",
    "rf_params= {\"max_depth\":[8], \"min_samples_leaf\":[7], \"min_samples_split\":[8], \"n_estimators\":[500], \"random_state\":[7]}\n",
    "\n",
    "xgb = XGBClassifier()\n",
    "xgb_params = {\"eta\":[.3],\"gamma\":[1],\"max_depth\":[7],\"lambda\":[0], \"alpha\":[1]}\n",
    "\n",
    "nn = MLPClassifier()\n",
    "nn_params = {\"hidden_layer_sizes\":[(400,)], \"learning_rate_init\":[0.01], \"max_iter\":[500],\n",
    "              \"random_state\":[7], \"shuffle\":[False]}"
   ]
  },
  {
   "cell_type": "code",
   "execution_count": 41,
   "metadata": {},
   "outputs": [
    {
     "name": "stdout",
     "output_type": "stream",
     "text": [
      "fitting model...\n"
     ]
    }
   ],
   "source": [
    "res = []\n",
    "key_modified_params = {f\"model__{key}\": val for key, val in xgb_params.items()}\n",
    "output = model_pipeline.imb_pipe_fit(xgb, key_modified_params, 'ohe_mode_allcat', ohe_mode_allcat.drop(columns='Y'), ohe_mode_allcat[\"Y\"], score='roc_auc', scaler=True)\n",
    "res.append(output)"
   ]
  },
  {
   "cell_type": "code",
   "execution_count": 21,
   "metadata": {},
   "outputs": [
    {
     "name": "stdout",
     "output_type": "stream",
     "text": [
      "fitting model...\n",
      "fitting model...\n",
      "fitting model...\n"
     ]
    }
   ],
   "source": [
    "# refit model for decision tree\n",
    "res = []\n",
    "for data in datasets:\n",
    "    key_modified_params = {f\"model__{key}\": val for key, val in dt_params.items()}\n",
    "    output = model_pipeline.imb_pipe_fit(dt, key_modified_params, data[0], data[1].drop(columns='Y'), data[1][\"Y\"], score='roc_auc', scaler=True)\n",
    "    res.append(output)"
   ]
  },
  {
   "cell_type": "code",
   "execution_count": 14,
   "metadata": {},
   "outputs": [
    {
     "data": {
      "text/plain": [
       "0.8415518780992912"
      ]
     },
     "execution_count": 14,
     "metadata": {},
     "output_type": "execute_result"
    }
   ],
   "source": [
    "res[0]['test_score']"
   ]
  },
  {
   "cell_type": "code",
   "execution_count": 24,
   "metadata": {},
   "outputs": [
    {
     "data": {
      "text/plain": [
       "(0.7307617527660086, 0.7372665438033172, 0.7382605336322586)"
      ]
     },
     "execution_count": 24,
     "metadata": {},
     "output_type": "execute_result"
    }
   ],
   "source": [
    "res[0]['test_score'],res[1]['test_score'],res[2]['test_score']"
   ]
  },
  {
   "cell_type": "code",
   "execution_count": 26,
   "metadata": {},
   "outputs": [
    {
     "name": "stdout",
     "output_type": "stream",
     "text": [
      "fitting model...\n",
      "fitting model...\n",
      "fitting model...\n"
     ]
    }
   ],
   "source": [
    "# refit model for random forest\n",
    "res = []\n",
    "for data in datasets:\n",
    "    key_modified_params = {f\"model__{key}\": val for key, val in rf_params.items()}\n",
    "    output = model_pipeline.imb_pipe_fit(rf, key_modified_params, data[0], data[1].drop(columns='Y'), data[1][\"Y\"], score='roc_auc', scaler=True)\n",
    "    res.append(output)"
   ]
  },
  {
   "cell_type": "code",
   "execution_count": 27,
   "metadata": {},
   "outputs": [
    {
     "data": {
      "text/plain": [
       "(0.7645342909074788, 0.7617755653930678, 0.7625203452840108)"
      ]
     },
     "execution_count": 27,
     "metadata": {},
     "output_type": "execute_result"
    }
   ],
   "source": [
    "res[0]['test_score'],res[1]['test_score'],res[2]['test_score']"
   ]
  },
  {
   "cell_type": "code",
   "execution_count": 29,
   "metadata": {},
   "outputs": [
    {
     "name": "stdout",
     "output_type": "stream",
     "text": [
      "fitting model...\n",
      "fitting model...\n",
      "fitting model...\n"
     ]
    }
   ],
   "source": [
    "# refit model for xgboost\n",
    "res = []\n",
    "for data in datasets:\n",
    "    key_modified_params = {f\"model__{key}\": val for key, val in xgb_params.items()}\n",
    "    output = model_pipeline.imb_pipe_fit(xgb, key_modified_params, data[0], data[1].drop(columns='Y'), data[1][\"Y\"], score='roc_auc', scaler=True)\n",
    "    res.append(output)"
   ]
  },
  {
   "cell_type": "code",
   "execution_count": 30,
   "metadata": {},
   "outputs": [
    {
     "data": {
      "text/plain": [
       "(0.8337506887314042, 0.8320825337715881, 0.8334371971956758)"
      ]
     },
     "execution_count": 30,
     "metadata": {},
     "output_type": "execute_result"
    }
   ],
   "source": [
    "res[0]['test_score'],res[1]['test_score'],res[2]['test_score']"
   ]
  },
  {
   "cell_type": "code",
   "execution_count": 36,
   "metadata": {},
   "outputs": [
    {
     "name": "stdout",
     "output_type": "stream",
     "text": [
      "fitting model...\n",
      "fitting model...\n",
      "fitting model...\n"
     ]
    }
   ],
   "source": [
    "# refit model for neural network\n",
    "res = []\n",
    "for data in datasets:\n",
    "    key_modified_params = {f\"model__{key}\": val for key, val in nn_params.items()}\n",
    "    output = model_pipeline.imb_pipe_fit(nn, key_modified_params, data[0], data[1].drop(columns='Y'), data[1][\"Y\"], score='roc_auc', scaler=True)\n",
    "    res.append(output)"
   ]
  },
  {
   "cell_type": "code",
   "execution_count": 37,
   "metadata": {},
   "outputs": [
    {
     "data": {
      "text/plain": [
       "(0.799376183509712, 0.7732740549338503, 0.7765558996573759)"
      ]
     },
     "execution_count": 37,
     "metadata": {},
     "output_type": "execute_result"
    }
   ],
   "source": [
    "res[0]['test_score'],res[1]['test_score'],res[2]['test_score']"
   ]
  },
  {
   "cell_type": "code",
   "execution_count": 39,
   "metadata": {},
   "outputs": [],
   "source": [
    "d = {'dataset':[\"mode_allcat\",\"mode_ordinal\",\"nan_allcat\"],\n",
    "     'Decision_tree':[0.7307617527660086, 0.7372665438033172, 0.7382605336322586],\n",
    "     'Random_Forest':[0.7645342909074788, 0.7617755653930678, 0.7625203452840108],\n",
    "     \"Xgboost\":[0.8337506887314042, 0.8320825337715881, 0.8334371971956758],\n",
    "     \"MLP_classifier\":[0.799376183509712, 0.7732740549338503, 0.7765558996573759],\n",
    "     }\n",
    "results = pd.DataFrame(d)\n"
   ]
  },
  {
   "cell_type": "code",
   "execution_count": 40,
   "metadata": {},
   "outputs": [
    {
     "data": {
      "text/html": [
       "<div>\n",
       "<style scoped>\n",
       "    .dataframe tbody tr th:only-of-type {\n",
       "        vertical-align: middle;\n",
       "    }\n",
       "\n",
       "    .dataframe tbody tr th {\n",
       "        vertical-align: top;\n",
       "    }\n",
       "\n",
       "    .dataframe thead th {\n",
       "        text-align: right;\n",
       "    }\n",
       "</style>\n",
       "<table border=\"1\" class=\"dataframe\">\n",
       "  <thead>\n",
       "    <tr style=\"text-align: right;\">\n",
       "      <th></th>\n",
       "      <th>dataset</th>\n",
       "      <th>Decision_tree</th>\n",
       "      <th>Random_Forest</th>\n",
       "      <th>Xgboost</th>\n",
       "      <th>MLP_classifier</th>\n",
       "    </tr>\n",
       "  </thead>\n",
       "  <tbody>\n",
       "    <tr>\n",
       "      <th>0</th>\n",
       "      <td>mode_allcat</td>\n",
       "      <td>0.730762</td>\n",
       "      <td>0.764534</td>\n",
       "      <td>0.833751</td>\n",
       "      <td>0.799376</td>\n",
       "    </tr>\n",
       "    <tr>\n",
       "      <th>1</th>\n",
       "      <td>mode_ordinal</td>\n",
       "      <td>0.737267</td>\n",
       "      <td>0.761776</td>\n",
       "      <td>0.832083</td>\n",
       "      <td>0.773274</td>\n",
       "    </tr>\n",
       "    <tr>\n",
       "      <th>2</th>\n",
       "      <td>nan_allcat</td>\n",
       "      <td>0.738261</td>\n",
       "      <td>0.762520</td>\n",
       "      <td>0.833437</td>\n",
       "      <td>0.776556</td>\n",
       "    </tr>\n",
       "  </tbody>\n",
       "</table>\n",
       "</div>"
      ],
      "text/plain": [
       "        dataset  Decision_tree  Random_Forest   Xgboost  MLP_classifier\n",
       "0   mode_allcat       0.730762       0.764534  0.833751        0.799376\n",
       "1  mode_ordinal       0.737267       0.761776  0.832083        0.773274\n",
       "2    nan_allcat       0.738261       0.762520  0.833437        0.776556"
      ]
     },
     "execution_count": 40,
     "metadata": {},
     "output_type": "execute_result"
    }
   ],
   "source": [
    "results"
   ]
  },
  {
   "cell_type": "code",
   "execution_count": null,
   "metadata": {},
   "outputs": [],
   "source": []
  }
 ],
 "metadata": {
  "kernelspec": {
   "display_name": "msia420-2",
   "language": "python",
   "name": "python3"
  },
  "language_info": {
   "codemirror_mode": {
    "name": "ipython",
    "version": 3
   },
   "file_extension": ".py",
   "mimetype": "text/x-python",
   "name": "python",
   "nbconvert_exporter": "python",
   "pygments_lexer": "ipython3",
   "version": "3.10.8"
  },
  "orig_nbformat": 4,
  "vscode": {
   "interpreter": {
    "hash": "dc988b3944cb4a31aec63363e972b55318be2a3948cf36a5295816f7db1e941b"
   }
  }
 },
 "nbformat": 4,
 "nbformat_minor": 2
}
